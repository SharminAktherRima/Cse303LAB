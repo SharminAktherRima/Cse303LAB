{
 "cells": [
  {
   "cell_type": "markdown",
   "id": "a05364d5",
   "metadata": {},
   "source": [
    "### 1. Given two integer numbers, write a Python program to return their product. If the product is greater than 1000, then return their sum. Read inputs from the user."
   ]
  },
  {
   "cell_type": "code",
   "execution_count": 7,
   "id": "babc1205",
   "metadata": {},
   "outputs": [
    {
     "name": "stdout",
     "output_type": "stream",
     "text": [
      "First Number: 10\n",
      "Second Number: 9\n",
      "Product is not greater than 1000!\n"
     ]
    }
   ],
   "source": [
    "num1=int(input(\"First Number: \"))\n",
    "num2=int(input(\"Second Number: \"))\n",
    "res= (num1+num2)\n",
    "product = num1*num2\n",
    "if product > 1000:\n",
    "    print(\"Result \",res) \n",
    "else:\n",
    "    print(\"Product is not greater than 1000!\")"
   ]
  },
  {
   "cell_type": "markdown",
   "id": "4fc31eaa",
   "metadata": {},
   "source": [
    "### 2. Write a Python program to find the area and perimeter of a circle. Read inputs from the user."
   ]
  },
  {
   "cell_type": "code",
   "execution_count": 8,
   "id": "f81cf81c",
   "metadata": {},
   "outputs": [
    {
     "name": "stdout",
     "output_type": "stream",
     "text": [
      "Radius: 4\n",
      "50.24\n",
      "25.12\n"
     ]
    }
   ],
   "source": [
    "r=float(input(\"Radius: \"))\n",
    "area=3.14*r*r\n",
    "perimeter=2*3.14*r\n",
    "print(area)\n",
    "print(perimeter)"
   ]
  },
  {
   "cell_type": "markdown",
   "id": "e39c6264",
   "metadata": {},
   "source": [
    "### 3. Write a Python program to calculate the compound interest based on the given formula. Read inputs\n",
    "### from the user.\n",
    "### A = P * (1 + R/100)\n",
    "\n",
    "### T where P is the principle amount, R is the interest rate and T is time (in years).\n",
    "\n",
    "### Define a function named as compound_interest_<your-student-id> in your program."
   ]
  },
  {
   "cell_type": "code",
   "execution_count": 12,
   "id": "347ed298",
   "metadata": {},
   "outputs": [
    {
     "name": "stdout",
     "output_type": "stream",
     "text": [
      "Principal amount: 2\n",
      "Years: 3\n",
      "Rate of interest: 12\n",
      "2.809856000000001\n"
     ]
    }
   ],
   "source": [
    "p = float(input(\"Principal amount: \"))\n",
    "t = float(input(\"Years: \"))\n",
    "r = float(input(\"Rate of interest: \"))\n",
    "compound_interest_2018260112 =  p * (pow((1 + r / 100), t)) \n",
    "print(compound_interest_2018260112)"
   ]
  },
  {
   "cell_type": "markdown",
   "id": "909f00aa",
   "metadata": {},
   "source": [
    "### 4. Given a positive integer N (read from the user), write a Python program to calculate the value of the\n",
    "### following series.\n",
    "\n",
    "### 1\n",
    "### 2 + 2\n",
    "### 2 + 3\n",
    "### 2 + 4\n",
    "### 2 ..... + N\n",
    "### 2"
   ]
  },
  {
   "cell_type": "code",
   "execution_count": 13,
   "id": "836d6d91",
   "metadata": {},
   "outputs": [
    {
     "name": "stdout",
     "output_type": "stream",
     "text": [
      "Number: 5\n",
      "55\n"
     ]
    }
   ],
   "source": [
    "def SquareSeries(number):\n",
    "    if(number == 0):\n",
    "        return 0\n",
    "    else:\n",
    "        return (number * number) + SquareSeries(number-1)\n",
    "num = int(input(\"Number: \"))\n",
    "total = SquareSeries(num)\n",
    "print(total)"
   ]
  },
  {
   "cell_type": "markdown",
   "id": "c71328f9",
   "metadata": {},
   "source": [
    "### 5. Given a positive integer N (read from the user), write a Python program to check if the number is prime or not. Define a function named as prime_find_<your-student-id> in your program."
   ]
  },
  {
   "cell_type": "code",
   "execution_count": 14,
   "id": "bb1a50ab",
   "metadata": {},
   "outputs": [
    {
     "name": "stdout",
     "output_type": "stream",
     "text": [
      "Enter any positive integer: 5\n",
      "5 is a prime number\n"
     ]
    }
   ],
   "source": [
    "def prime_find_2018_2_60_112(n):\n",
    " if n>1:\n",
    "  for i in range(2,n):\n",
    "   if (n % i) == 0:\n",
    "    return True\n",
    "   else:\n",
    "    False\n",
    " else:\n",
    "  False\n",
    "x = int(input(\"Enter any positive integer: \")) \n",
    "if (prime_find_2018_2_60_112(x)==True):\n",
    " print(x, \"is not a prime number\") \n",
    "else: \n",
    " print(\"%d is a prime number\" %x) "
   ]
  },
  {
   "cell_type": "markdown",
   "id": "d2cf0792",
   "metadata": {},
   "source": [
    "### 6. Given a positive integer n (read from the user), write a Python program to find the n-th Fibonacci number based on the following assumptions. Fn = Fn-1 + Fn-2 where F0 = 0 and F1 = 1"
   ]
  },
  {
   "cell_type": "code",
   "execution_count": 15,
   "id": "09cf0625",
   "metadata": {},
   "outputs": [
    {
     "name": "stdout",
     "output_type": "stream",
     "text": [
      "Enter any positive integer : 6\n",
      "6 th Fibonacci number is = 8\n"
     ]
    }
   ],
   "source": [
    "def fibo(num):\n",
    " if num==0:\n",
    "  return 0\n",
    " elif num==1:\n",
    "  return 1\n",
    " else:\n",
    "  return fibo(num-1)+fibo(num-2)\n",
    "num = int(input(\"Enter any positive integer : \"))\n",
    "if(num<0):\n",
    " print(\"Wrong input\")\n",
    "else:\n",
    " print(num, \"th Fibonacci number is = %d\" %fibo(num))\n"
   ]
  },
  {
   "cell_type": "markdown",
   "id": "295ae3dc",
   "metadata": {},
   "source": [
    "### 7. Given a list of numbers (hardcoded in the program), write a Python program to calculate the sum of the list. Do not use any built-in function."
   ]
  },
  {
   "cell_type": "code",
   "execution_count": 17,
   "id": "9e758214",
   "metadata": {},
   "outputs": [
    {
     "name": "stdout",
     "output_type": "stream",
     "text": [
      "Sum is :  45\n"
     ]
    }
   ],
   "source": [
    "sum = 0\n",
    "number = [9,7,2,8,0,1,6,4,5,3] \n",
    "for i in number: \n",
    " \n",
    " sum = i+sum\n",
    "print(\"Sum is : \", sum)"
   ]
  },
  {
   "cell_type": "markdown",
   "id": "8b10a3f8",
   "metadata": {},
   "source": [
    "### 8. Given a list of numbers (hardcoded in the program), write a Python program to calculate the sum of the even-indexed elements in the list."
   ]
  },
  {
   "cell_type": "code",
   "execution_count": 11,
   "id": "644aed86",
   "metadata": {},
   "outputs": [
    {
     "name": "stdout",
     "output_type": "stream",
     "text": [
      "\n",
      "The Sum of Even Numbers in this List =   9\n"
     ]
    }
   ],
   "source": [
    "NumList=[1,2,3,4,5,6]\n",
    "Sum=0\n",
    "\n",
    "for j in range (0,len(NumList)):\n",
    "    if(j % 2 == 0):\n",
    "        Sum = Sum + NumList[j]\n",
    "print(\"\\nThe Sum of Even Numbers in this List =  \", Sum)\n"
   ]
  },
  {
   "cell_type": "markdown",
   "id": "e44b4b52",
   "metadata": {},
   "source": [
    "###    9. Given a list of numbers (hardcoded in the program), write a Python program to find the largest and smallest element of the list. Define two functions largest_number<your-student-id> and smallest_number_<your-student-id> in your program. Do not use any built-in function."
   ]
  },
  {
   "cell_type": "code",
   "execution_count": 6,
   "id": "746f7d16",
   "metadata": {
    "scrolled": true
   },
   "outputs": [
    {
     "name": "stdout",
     "output_type": "stream",
     "text": [
      "The Smallest Element in this List is :  5\n",
      "The Largest Element in this List is :  300\n"
     ]
    }
   ],
   "source": [
    "NumList = [10, 300, 20, 40,50, 60,5]\n",
    "\n",
    "\n",
    "\n",
    "\n",
    "def largest_number_2018260112():\n",
    "    largest = NumList[0]\n",
    "\n",
    "    for j in range(1, len(NumList)):\n",
    "\n",
    "\n",
    "        if (largest < NumList[j]):\n",
    "            largest = NumList[j]\n",
    "    print(\"The Largest Element in this List is : \", largest)\n",
    "\n",
    "\n",
    "\n",
    "\n",
    "def smallest_number_2018260112():\n",
    "    smallest = NumList[0]\n",
    "    for j in range(1, len(NumList)):\n",
    "        if (smallest > NumList[j]):\n",
    "            smallest = NumList[j]\n",
    "    print(\"The Smallest Element in this List is : \", smallest)\n",
    "\n",
    "smallest_number_2018260112()\n",
    "largest_number_2018260112()\n",
    "\n"
   ]
  },
  {
   "cell_type": "markdown",
   "id": "862cc034",
   "metadata": {},
   "source": [
    "###### "
   ]
  },
  {
   "cell_type": "markdown",
   "id": "79ad6441",
   "metadata": {},
   "source": [
    "### 10. Given a list of numbers (hardcoded in the program), write a Python program to find the second largest element of the list."
   ]
  },
  {
   "cell_type": "code",
   "execution_count": 57,
   "id": "891ba7b8",
   "metadata": {},
   "outputs": [
    {
     "name": "stdout",
     "output_type": "stream",
     "text": [
      "99\n"
     ]
    }
   ],
   "source": [
    "def findLargest(arr):\n",
    "\n",
    "    secondLargest = arr[0]\n",
    "\n",
    "    largest = arr[0]\n",
    "\n",
    "    for i in range(len(arr)):\n",
    "\n",
    "        if arr[i] > largest:\n",
    "            largest = arr[i]\n",
    "\n",
    "\n",
    "    for i in range(len(arr)):\n",
    "\n",
    "        if arr[i] > secondLargest and arr[i] != largest:\n",
    "            secondLargest = arr[i]\n",
    "    return secondLargest\n",
    "\n",
    "\n",
    "print(findLargest([10, 20, 49,100, 45, 99]))\n",
    "\n"
   ]
  },
  {
   "cell_type": "code",
   "execution_count": 3,
   "id": "70224297",
   "metadata": {},
   "outputs": [
    {
     "name": "stdout",
     "output_type": "stream",
     "text": [
      "Second largest element is: 142\n"
     ]
    }
   ],
   "source": [
    "N=[100,154,121,135,130,142] \n",
    "l=len(N) \n",
    "N.sort() \n",
    "print(\"Second largest element is:\", N[l-2]) "
   ]
  },
  {
   "cell_type": "markdown",
   "id": "8421d56c",
   "metadata": {},
   "source": [
    "### 11.Given a string, display only those characters which are present at an even index number. Read inputs from the user."
   ]
  },
  {
   "cell_type": "code",
   "execution_count": 2,
   "id": "836c1360",
   "metadata": {},
   "outputs": [
    {
     "name": "stdout",
     "output_type": "stream",
     "text": [
      "Enter a string: Hello world\n",
      "H\n",
      "l\n",
      "o\n",
      "w\n",
      "r\n",
      "d\n"
     ]
    }
   ],
   "source": [
    "string =input(\"Enter a string: \")\n",
    "N= len(string)\n",
    "for j in range(N):\n",
    "    if(j%2==0):\n",
    "        print(string[j])"
   ]
  },
  {
   "cell_type": "markdown",
   "id": "7c1b73c2",
   "metadata": {},
   "source": [
    "### 12. Given a string and an integer number n, remove characters from a string starting from zero up to n and return a new string. N must be less than the length of the string. Read inputs from the user. Do not use any built-in function."
   ]
  },
  {
   "cell_type": "code",
   "execution_count": 11,
   "id": "ed90d023",
   "metadata": {},
   "outputs": [
    {
     "name": "stdout",
     "output_type": "stream",
     "text": [
      "Enter a string: Hello this is CSE303\n",
      "Enter a number: 15\n",
      "New string is :  SE303\n"
     ]
    }
   ],
   "source": [
    "string=input(\"Enter a string: \")\n",
    "l=len(string)\n",
    "n=int(input(\"Enter a number: \"))\n",
    "\n",
    "new_string=\"\"\n",
    "\n",
    "for i in range(0,l):\n",
    "    if i>=n:\n",
    "        new_string=new_string+string[i]\n",
    "\n",
    "print(\"New string is : \",new_string)"
   ]
  },
  {
   "cell_type": "markdown",
   "id": "6683fc5c",
   "metadata": {},
   "source": [
    "### 13. Given a string, find the count of the substring “CSE303” appeared in the given string. Do not use any built-in function."
   ]
  },
  {
   "cell_type": "code",
   "execution_count": 1,
   "id": "98633989",
   "metadata": {},
   "outputs": [
    {
     "name": "stdout",
     "output_type": "stream",
     "text": [
      "This is CSE303 - Statistics for Data Science.Prerequisite of CSE303 is STA102.\n",
      "CSE303\n",
      "2\n"
     ]
    }
   ],
   "source": [
    "string = 'This is CSE303 - Statistics for Data Science.Prerequisite of CSE303 is STA102.'\n",
    "print(string)\n",
    "sub_string = 'CSE303'\n",
    "print(sub_string)\n",
    "count = 0\n",
    "sub_len=len(sub_string)\n",
    "for i in range(len(string)):\n",
    " if string[i:i+sub_len] == sub_string:\n",
    "  count += 1\n",
    "print (count)"
   ]
  },
  {
   "cell_type": "markdown",
   "id": "3fd08e3d",
   "metadata": {},
   "source": [
    "### 14. Given a string, write a python program to check if it is palindrome or not. Define a function named palindrome_checker_<your-student-id> in your program."
   ]
  },
  {
   "cell_type": "code",
   "execution_count": 2,
   "id": "d47fac1d",
   "metadata": {},
   "outputs": [
    {
     "name": "stdout",
     "output_type": "stream",
     "text": [
      "String: madam\n",
      "Palindrome\n"
     ]
    }
   ],
   "source": [
    "def palindrome_checker_2018_2_60_112(string):\n",
    " string1 = ''.join(reversed(string))\n",
    " if(string==string1):\n",
    "  return True\n",
    " else:\n",
    "    return False\n",
    "string=input(\"String: \") \n",
    "check = palindrome_checker_2018_2_60_112(string)\n",
    "if (check): \n",
    " print(\"Palindrome\") \n",
    "else: \n",
    " print(\"Not palindrome\") "
   ]
  },
  {
   "cell_type": "markdown",
   "id": "9858571f",
   "metadata": {},
   "source": [
    "### 15. Given a two list of numbers (hardcoded in the program), create a new list such that new list should contain only odd numbers from the first list and even numbers from the second list."
   ]
  },
  {
   "cell_type": "code",
   "execution_count": 3,
   "id": "67c1bda8",
   "metadata": {},
   "outputs": [
    {
     "name": "stdout",
     "output_type": "stream",
     "text": [
      "List 1 is :  [11, 22, 33, 44, 55, 66, 77, 88, 99]\n",
      "Odd numbers from list 1 : \n",
      "[11, 33, 55, 77, 99]\n",
      "List 2 is :  [11, 21, 22, 32, 33, 43, 44, 54, 55, 65, 66, 76, 77, 87, 88, 98]\n",
      "Even numbers from list 2 : \n",
      "[22, 32, 44, 54, 66, 76, 88, 98]\n"
     ]
    }
   ],
   "source": [
    "lis1=[11,22,33,44,55,66,77,88,99] \n",
    "lis2=[11,21,22,32,33,43,44,54,55,65,66,76,77,87,88,98] \n",
    "odd=[] \n",
    "even=[] \n",
    "l1=len(lis1) \n",
    "l2=len(lis2) \n",
    "print(\"List 1 is : \", lis1) \n",
    "print(\"Odd numbers from list 1 : \") \n",
    "for i in range (0,l1): \n",
    " if(lis1[i]%2!=0):\n",
    "  odd.append(lis1[i])\n",
    "print(odd) \n",
    "print(\"List 2 is : \", lis2) \n",
    "print(\"Even numbers from list 2 : \") \n",
    "for i in range (0,l2): \n",
    " if(lis2[i]%2==0):\n",
    "  even.append(lis2[i])\n",
    "print(even)"
   ]
  },
  {
   "cell_type": "code",
   "execution_count": null,
   "id": "531e208a",
   "metadata": {},
   "outputs": [],
   "source": []
  }
 ],
 "metadata": {
  "kernelspec": {
   "display_name": "Python 3",
   "language": "python",
   "name": "python3"
  },
  "language_info": {
   "codemirror_mode": {
    "name": "ipython",
    "version": 3
   },
   "file_extension": ".py",
   "mimetype": "text/x-python",
   "name": "python",
   "nbconvert_exporter": "python",
   "pygments_lexer": "ipython3",
   "version": "3.8.8"
  }
 },
 "nbformat": 4,
 "nbformat_minor": 5
}
